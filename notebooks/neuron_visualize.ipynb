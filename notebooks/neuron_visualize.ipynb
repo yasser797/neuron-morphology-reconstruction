{
 "cells": [
  {
   "cell_type": "code",
   "execution_count": 1,
   "metadata": {},
   "outputs": [
    {
     "name": "stdout",
     "output_type": "stream",
     "text": [
      "Jupyter environment detected. Enabling Open3D WebVisualizer.\n",
      "[Open3D INFO] WebRTC GUI backend enabled.\n",
      "[Open3D INFO] WebRTCWindowSystem: HTTP handshake server disabled.\n"
     ]
    }
   ],
   "source": [
    "import numpy as np\n",
    "import open3d as o3d\n",
    "from collections import namedtuple\n",
    "import rerun as rr "
   ]
  },
  {
   "cell_type": "code",
   "execution_count": 2,
   "metadata": {},
   "outputs": [],
   "source": [
    "# rr.init(\"viewer\", spawn=True)\n",
    "\n",
    "# rr.log(\n",
    "#     \"my/points\",\n",
    "#     rr.Points3D([[0.2, 0.5, 0.3], [0.9, 1.2, 0.1], [1.0, 4.2, 0.3]], radii=[0.1, 0.2, 0.3])\n",
    "# )"
   ]
  },
  {
   "cell_type": "code",
   "execution_count": 3,
   "metadata": {},
   "outputs": [],
   "source": [
    "def read_swc_file(swc_file_path):\n",
    "    \"\"\"\n",
    "    Reads an SWC file and extracts the point coordinates and radii.\n",
    "    \"\"\"\n",
    "    points = []\n",
    "    with open(swc_file_path, 'r') as file:\n",
    "        for line in file:\n",
    "            if not line.startswith('#'):  # Skip comments\n",
    "                parts = line.split()\n",
    "                if len(parts) == 7:\n",
    "                    # Extract x, y, z coordinates and radius\n",
    "                    x, y, z, radius = map(float, parts[2:6])\n",
    "                    points.append([x, y, z])  # Only coordinates are used for the point cloud\n",
    "    return np.array(points)\n",
    "\n",
    "def create_point_cloud_from_swc(swc_file_path):\n",
    "    \"\"\"\n",
    "    Creates an Open3D point cloud from an SWC file.\n",
    "    \"\"\"\n",
    "    points = read_swc_file(swc_file_path)\n",
    "    point_cloud = o3d.geometry.PointCloud()\n",
    "    point_cloud.points = o3d.utility.Vector3dVector(points)\n",
    "    return point_cloud\n",
    "\n",
    "\n",
    "\n",
    "PointCloud = namedtuple(\"ColorGrid\", [\"positions\", \"colors\"])\n",
    "\n",
    "\n",
    "def PointCloudTuple(o3d_pcd):\n",
    "    \"\"\"Convert an Open3D PointCloud to a PointCloudTuple.\"\"\"\n",
    "\n",
    "    pcd_pts = np.asarray(o3d_pcd.points)\n",
    "    pcd_rgb = np.asarray(o3d_pcd.colors) * 255\n",
    "\n",
    "    return PointCloud(pcd_pts, pcd_rgb.astype(np.uint8))"
   ]
  },
  {
   "cell_type": "code",
   "execution_count": 9,
   "metadata": {},
   "outputs": [],
   "source": [
    "# Example usage\n",
    "\n",
    "# swc_file_path = '/home/ybb/vs/neuron-data/neuron_nmo/allen cell types/Source-Version/H16-06-008-21-01-01-01_688788732_m_dendriteaxon.swc'\n",
    "# swc_file_path_2 = '/home/ybb/vs/neuron-data/neuron_nmo/allen cell types/CNG version/H16-06-008-21-01-01-01_688788732_m_dendriteaxon.CNG.swc'\n",
    "\n",
    "# swc_file_path = '../data/neuron_nmo/allen cell types/CNG version/H16-06-008-21-01-01-01_688788732_m_dendriteaxon.CNG.swc'\n",
    "# swc_file_path = '../data/neuron_nmo/allen cell types/CNG version/H16-06-013-05-03-01_575210452_m_dendriteaxon.CNG.swc'\n",
    "\n",
    "swc_file_path = '/home/ybb/vs/neuron-morphology-reconstruction/data/raw_dataset/ION_SWC/17099_002_reg.swc_sorted.swc'\n",
    "\n",
    "\n",
    "point_cloud = create_point_cloud_from_swc(swc_file_path)\n",
    "# point_cloud_2 = create_point_cloud_from_swc(swc_file_path_2)\n",
    "\n",
    "\n",
    "o3d.visualization.draw_geometries([point_cloud])  # Visualize the point cloud"
   ]
  },
  {
   "cell_type": "code",
   "execution_count": 14,
   "metadata": {},
   "outputs": [],
   "source": [
    "rerun_neuron = PointCloudTuple(point_cloud)\n",
    "# rerun_neuron_2 = PointCloudTuple(point_cloud_2)\n"
   ]
  },
  {
   "cell_type": "code",
   "execution_count": 15,
   "metadata": {},
   "outputs": [],
   "source": [
    "neuromorpho_url = \"https://neuromorpho.org/neuron_info.jsp?neuron_name=H16-06-008-21-01-01-01_688788732_m_dendriteaxon\"\n",
    "soma = \"foo\"\n",
    "dendrites = \"yoo\"\n",
    "\n",
    "neuro_id = 'NMO_275879'\n",
    "species_name = \t'human'"
   ]
  },
  {
   "cell_type": "code",
   "execution_count": 16,
   "metadata": {},
   "outputs": [],
   "source": [
    "rr.disconnect()"
   ]
  },
  {
   "cell_type": "code",
   "execution_count": 17,
   "metadata": {},
   "outputs": [
    {
     "name": "stderr",
     "output_type": "stream",
     "text": [
      "[2024-05-08T20:22:07Z INFO  winit::platform_impl::platform::x11::window] Guessed window scale factor: 1\n",
      "[2024-05-08T20:22:07Z WARN  wgpu_hal::vulkan::instance] Unable to find extension: VK_EXT_swapchain_colorspace\n",
      "[2024-05-08T20:22:07Z INFO  tracing::span] perform;\n",
      "[2024-05-08T20:22:07Z INFO  zbus::handshake] write_command; command=Auth(Some(External), Some([49, 48, 48, 48]))\n",
      "[2024-05-08T20:22:07Z INFO  tracing::span] read_command;\n",
      "[2024-05-08T20:22:07Z INFO  zbus::handshake] write_command; command=NegotiateUnixFD\n",
      "[2024-05-08T20:22:07Z INFO  tracing::span] read_command;\n",
      "[2024-05-08T20:22:07Z INFO  zbus::handshake] write_command; command=Begin\n",
      "[2024-05-08T20:22:07Z INFO  tracing::span] socket reader;\n",
      "[2024-05-08T20:22:07Z INFO  tracing::span] perform;\n",
      "[2024-05-08T20:22:07Z INFO  zbus::handshake] write_command; command=Auth(Some(External), Some([49, 48, 48, 48]))\n",
      "[2024-05-08T20:22:07Z INFO  tracing::span] read_command;\n",
      "[2024-05-08T20:22:07Z INFO  zbus::handshake] write_command; command=NegotiateUnixFD\n",
      "[2024-05-08T20:22:07Z INFO  tracing::span] read_command;\n",
      "[2024-05-08T20:22:07Z INFO  zbus::handshake] write_command; command=Begin\n",
      "[2024-05-08T20:22:07Z INFO  tracing::span] socket reader;\n",
      "[2024-05-08T20:22:07Z INFO  zbus::connection] {}; obj_server_task_name=\"ObjectServer task\"\n",
      "[2024-05-08T20:22:07Z INFO  zbus::object_server] dispatch_message; msg=Msg { type: MethodCall, sender: UniqueName(Str(Borrowed(\":1.3\"))), path: ObjectPath(\"/org/a11y/atspi/accessible/root\"), iface: InterfaceName(Str(Borrowed(\"org.freedesktop.DBus.Properties\"))), member: MemberName(Str(Borrowed(\"Set\"))), body: Signature(\"ssv\") }\n",
      "[2024-05-08T20:22:07Z INFO  zbus::object_server] dispatch_method_call; msg=Msg { type: MethodCall, sender: UniqueName(Str(Borrowed(\":1.3\"))), path: ObjectPath(\"/org/a11y/atspi/accessible/root\"), iface: InterfaceName(Str(Borrowed(\"org.freedesktop.DBus.Properties\"))), member: MemberName(Str(Borrowed(\"Set\"))), body: Signature(\"ssv\") }\n",
      "[2024-05-08T20:22:07Z INFO  zbus::object_server] dispatch_method_call_try; msg=Msg { type: MethodCall, sender: UniqueName(Str(Borrowed(\":1.3\"))), path: ObjectPath(\"/org/a11y/atspi/accessible/root\"), iface: InterfaceName(Str(Borrowed(\"org.freedesktop.DBus.Properties\"))), member: MemberName(Str(Borrowed(\"Set\"))), body: Signature(\"ssv\") }\n"
     ]
    },
    {
     "name": "stderr",
     "output_type": "stream",
     "text": [
      "[2024-05-08T20:22:08Z ERROR re_query::archetype_view] found corrupt cell -- mismatched number of instances\n"
     ]
    }
   ],
   "source": [
    "\n",
    "rr.init(\"neuron morphology viewer\", spawn=True)\n",
    "\n",
    "# blueprint = None\n",
    "# rr.connect(default_blueprint=True)\n",
    "rr.log(\"/neuron cell\", rr.Points3D(\n",
    "    positions=rerun_neuron.positions, \n",
    "    colors=rerun_neuron.colors,\n",
    "    labels=[\"original scan\"]\n",
    "    )\n",
    ")\n",
    "\n",
    "\n",
    "# rr.log(\"neuron cell 2\", rr.Points3D(\n",
    "#     positions=rerun_neuron_2.positions, \n",
    "#     colors=rerun_neuron_2.colors,\n",
    "#     labels=[\"seconed scan\"]\n",
    "#     )\n",
    "# )\n",
    "\n",
    "\n",
    "\n",
    "rr.log(\n",
    "    \"/markdown\",\n",
    "    rr.TextDocument(\n",
    "        f'''\n",
    "[View Neuron cell in neuromorpho.org]({neuromorpho_url})\n",
    "\n",
    "## Neuron cell details:\n",
    "\n",
    "| species_name | Neuron ID |\n",
    "| ------------ | ---------- |\n",
    "| {species_name}  | {neuro_id} |\n",
    "        \n",
    "        \n",
    "        '''.strip(),\n",
    "        media_type=rr.MediaType.MARKDOWN\n",
    "    )\n",
    ")\n"
   ]
  },
  {
   "cell_type": "code",
   "execution_count": 9,
   "metadata": {},
   "outputs": [],
   "source": [
    "# rr.notebook_show()"
   ]
  },
  {
   "cell_type": "code",
   "execution_count": 10,
   "metadata": {},
   "outputs": [],
   "source": [
    "\n",
    "\n",
    "\n",
    "# rr.log(\n",
    "#     \"convex hull\",\n",
    "#     rr.LineStrips3D(\n",
    "#         [hull_2_line_strips],\n",
    "#         colors=[[255, 0, 0]],  \n",
    "#         radii=[0.005],         # Line radius\n",
    "#         labels=[\"Hull Line Strip\"]\n",
    "#     ),\n",
    "# )\n",
    "\n",
    "\n",
    "# rr.log(\"scan screenshot\", \n",
    "#        rr.Image(data=orthoimage))\n"
   ]
  },
  {
   "cell_type": "code",
   "execution_count": 11,
   "metadata": {},
   "outputs": [],
   "source": [
    "# import rerun.blueprint as rrb\n",
    "\n",
    "# my_blueprint = rrb.Blueprint(\n",
    "#     rrb.Horizontal(\n",
    "#         rrb.Spatial3DView(origin=\"reconstruction\"),\n",
    "#         rrb.Spatial2DView(origin=\"video\")\n",
    "#     ),\n",
    "#     collapse_panels=True,\n",
    "# )\n"
   ]
  },
  {
   "cell_type": "code",
   "execution_count": 12,
   "metadata": {},
   "outputs": [],
   "source": [
    "# my_blueprint.spawn(\"my_application\")\n"
   ]
  },
  {
   "cell_type": "code",
   "execution_count": 13,
   "metadata": {},
   "outputs": [],
   "source": [
    "# rr.send_blueprint(my_blueprint)"
   ]
  }
 ],
 "metadata": {
  "kernelspec": {
   "display_name": "neuron_morph",
   "language": "python",
   "name": "python3"
  },
  "language_info": {
   "codemirror_mode": {
    "name": "ipython",
    "version": 3
   },
   "file_extension": ".py",
   "mimetype": "text/x-python",
   "name": "python",
   "nbconvert_exporter": "python",
   "pygments_lexer": "ipython3",
   "version": "3.9.19"
  }
 },
 "nbformat": 4,
 "nbformat_minor": 2
}
